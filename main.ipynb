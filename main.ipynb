{
 "cells": [
  {
   "cell_type": "code",
   "execution_count": 1,
   "metadata": {},
   "outputs": [],
   "source": [
    "#DataToVid.py\n",
    "import os\n",
    "import sys\n",
    "import numpy as np\n",
    "import cv2\n",
    "from PIL import Image"
   ]
  },
  {
   "cell_type": "code",
   "execution_count": 2,
   "metadata": {},
   "outputs": [],
   "source": [
    "class BinaryString:\n",
    "    length: int\n",
    "    data: np.ndarray[bool]\n",
    "    frame_data: np.ndarray[int] = None\n",
    "    filename: str\n",
    "    \n",
    "    def __init__(self) -> None:\n",
    "        self.length = 0\n",
    "        self.data = np.array([], dtype=bool)\n",
    "    \n",
    "    def read_file(self, file_path):\n",
    "        self.filename = os.path.basename(file_path)\n",
    "        file_size = os.path.getsize(file_path)\n",
    "        \n",
    "        idx = 0\n",
    "        with open(file_path, \"rb\") as f:\n",
    "            byte = f.read(1)\n",
    "            while byte:\n",
    "                for i in range(8):\n",
    "                    self.data = np.append(self.data, byte[0] & (1 << i))\n",
    "                idx += 1\n",
    "                byte = f.read(1)\n",
    "                \n",
    "                percentage = (idx * 100) // file_size\n",
    "                print(f\"\\r{idx}/{file_size} ({percentage}%)\", end=\"\")\n",
    "                \n",
    "        self.length = len(self.data)\n",
    "    \n",
    "    def reshape_data(self):\n",
    "        #reshape data into 1024x1024x3 array of int\n",
    "        num_frames = self.length // (1024 * 1024 * 3)\n",
    "        if num_frames == 0:\n",
    "            num_frames = 1\n",
    "            #pad data with zeros\n",
    "            self.data = np.pad(self.data, (0, 1024 * 1024 * 3 - self.length), \"constant\")\n",
    "\n",
    "        #[frame, row, col, channel]\n",
    "        #channel is int 0-255\n",
    "        self.frame_data = np.zeros((num_frames, 1024, 1024, 3), dtype=int)\n",
    "        \n",
    "        #loop through each frame\n",
    "        #loop through each row\n",
    "        #loop through each column\n",
    "        #loop through each channel\n",
    "        #convert next 8 bits to int\n",
    "        \n",
    "        pixel_to_go = num_frames * 1024 * 1024 * 3\n",
    "        \n",
    "        pixels_done = 0\n",
    "        idx = 0\n",
    "        for frame in range(num_frames):\n",
    "            for row in range(1024):\n",
    "                for col in range(1024):\n",
    "                    for channel in range(3):\n",
    "                        \n",
    "                        color_val = 0\n",
    "                        for i in range(8):\n",
    "                            if self.data[idx]:\n",
    "                                color_val |= (1 << i)\n",
    "                            idx += 1\n",
    "                        self.frame_data[frame][row][col][channel] = color_val\n",
    "                        pixels_done += 1\n",
    "                        print(f\"\\r{pixels_done}/{pixel_to_go} ({(pixels_done * 100) // pixel_to_go}%)\", end=\"\")\n",
    "                        \n",
    "        print(\"Done!\")\n",
    "        \n",
    "        \n",
    "        \n",
    "    def write_file(self):\n",
    "        \n",
    "        if not os.path.exists(\"./data/Output\"):\n",
    "            os.makedirs(\"./data/Output\")\n",
    "        \n",
    "        if self.frame_data is None:\n",
    "            self.reshape_data()\n",
    "        \n",
    "        \n",
    "        output_path = f\"./data/Output/{self.filename}.mp4\"\n",
    "        print(f\"Writing to {output_path}\")\n",
    "        \n",
    "        #write to video\n",
    "        images = []\n",
    "        \n",
    "        #convert to PIL images\n",
    "        for i in range(len(self.frame_data)):\n",
    "            images.append(Image.fromarray(self.frame_data[i].astype(np.uint8)))\n",
    "        \n",
    "        #write to video using cv2\n",
    "        fourcc = cv2.VideoWriter_fourcc(*'mp4v')\n",
    "        video = cv2.VideoWriter(output_path, fourcc, 60, (1024, 1024))\n",
    "        for i in range(len(images)):\n",
    "            video.write(cv2.cvtColor(np.array(images[i]), cv2.COLOR_RGB2BGR))\n",
    "        video.release()\n",
    "        "
   ]
  },
  {
   "cell_type": "code",
   "execution_count": 3,
   "metadata": {},
   "outputs": [
    {
     "name": "stdout",
     "output_type": "stream",
     "text": [
      "574/574 (100%)"
     ]
    }
   ],
   "source": [
    "file_path = \"./Data/Input/input.txt\"\n",
    "img = BinaryString()\n",
    "img.read_file(file_path)"
   ]
  },
  {
   "cell_type": "code",
   "execution_count": 4,
   "metadata": {},
   "outputs": [
    {
     "name": "stdout",
     "output_type": "stream",
     "text": [
      "393216/3145728 (12%)"
     ]
    },
    {
     "ename": "IndexError",
     "evalue": "index 3145728 is out of bounds for axis 0 with size 3145728",
     "output_type": "error",
     "traceback": [
      "\u001b[1;31m---------------------------------------------------------------------------\u001b[0m",
      "\u001b[1;31mIndexError\u001b[0m                                Traceback (most recent call last)",
      "Cell \u001b[1;32mIn[4], line 1\u001b[0m\n\u001b[1;32m----> 1\u001b[0m \u001b[43mimg\u001b[49m\u001b[38;5;241;43m.\u001b[39;49m\u001b[43mreshape\u001b[49m\u001b[43m(\u001b[49m\u001b[43m)\u001b[49m\n",
      "Cell \u001b[1;32mIn[2], line 58\u001b[0m, in \u001b[0;36mBinaryString.reshape\u001b[1;34m(self)\u001b[0m\n\u001b[0;32m     56\u001b[0m color_val \u001b[38;5;241m=\u001b[39m \u001b[38;5;241m0\u001b[39m\n\u001b[0;32m     57\u001b[0m \u001b[38;5;28;01mfor\u001b[39;00m i \u001b[38;5;129;01min\u001b[39;00m \u001b[38;5;28mrange\u001b[39m(\u001b[38;5;241m8\u001b[39m):\n\u001b[1;32m---> 58\u001b[0m     \u001b[38;5;28;01mif\u001b[39;00m \u001b[38;5;28;43mself\u001b[39;49m\u001b[38;5;241;43m.\u001b[39;49m\u001b[43mdata\u001b[49m\u001b[43m[\u001b[49m\u001b[43midx\u001b[49m\u001b[43m]\u001b[49m:\n\u001b[0;32m     59\u001b[0m         color_val \u001b[38;5;241m|\u001b[39m\u001b[38;5;241m=\u001b[39m (\u001b[38;5;241m1\u001b[39m \u001b[38;5;241m<<\u001b[39m i)\n\u001b[0;32m     60\u001b[0m     idx \u001b[38;5;241m+\u001b[39m\u001b[38;5;241m=\u001b[39m \u001b[38;5;241m1\u001b[39m\n",
      "\u001b[1;31mIndexError\u001b[0m: index 3145728 is out of bounds for axis 0 with size 3145728"
     ]
    }
   ],
   "source": [
    "img.reshape_data()"
   ]
  },
  {
   "cell_type": "code",
   "execution_count": null,
   "metadata": {},
   "outputs": [
    {
     "name": "stdout",
     "output_type": "stream",
     "text": [
      "Writing to ./data/Output/input.txt.mp4\n"
     ]
    }
   ],
   "source": [
    "img.write_file()"
   ]
  }
 ],
 "metadata": {
  "kernelspec": {
   "display_name": "Python 3",
   "language": "python",
   "name": "python3"
  },
  "language_info": {
   "codemirror_mode": {
    "name": "ipython",
    "version": 3
   },
   "file_extension": ".py",
   "mimetype": "text/x-python",
   "name": "python",
   "nbconvert_exporter": "python",
   "pygments_lexer": "ipython3",
   "version": "3.10.11"
  }
 },
 "nbformat": 4,
 "nbformat_minor": 2
}
